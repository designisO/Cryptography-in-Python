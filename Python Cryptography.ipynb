{
 "cells": [
  {
   "cell_type": "markdown",
   "id": "dcb0e84f",
   "metadata": {},
   "source": [
    "## Python Cryptography"
   ]
  },
  {
   "cell_type": "markdown",
   "id": "6a9daa8c",
   "metadata": {},
   "source": [
    "In this project, I wanted to gain knowledge about the cryptography library for Python. The goal in this project is to learn how to use keys to encrypt and decrypt a secret message using private and public key. The key is a private key which shouldn't be shared unless wanting to decrypt. Decided to use jupyter notebook to show the code in cells as they are executed."
   ]
  },
  {
   "cell_type": "code",
   "execution_count": 4,
   "id": "0317fb57",
   "metadata": {},
   "outputs": [],
   "source": [
    "from cryptography.fernet import Fernet"
   ]
  },
  {
   "cell_type": "code",
   "execution_count": 5,
   "id": "484ec91a",
   "metadata": {},
   "outputs": [],
   "source": [
    "key = Fernet.generate_key()"
   ]
  },
  {
   "cell_type": "code",
   "execution_count": 7,
   "id": "d84fe005",
   "metadata": {},
   "outputs": [],
   "source": [
    "with open('filekey.key', 'wb') as filekey:\n",
    "    filekey.write(key)"
   ]
  },
  {
   "cell_type": "code",
   "execution_count": null,
   "id": "421eabb7",
   "metadata": {},
   "outputs": [],
   "source": []
  },
  {
   "cell_type": "markdown",
   "id": "5ebe4825",
   "metadata": {},
   "source": [
    "#### Encryption of the message."
   ]
  },
  {
   "cell_type": "code",
   "execution_count": 9,
   "id": "458bcfc5",
   "metadata": {},
   "outputs": [],
   "source": [
    "with open('filekey.key', 'rb') as filekey:\n",
    "    key = filekey.read()"
   ]
  },
  {
   "cell_type": "code",
   "execution_count": 10,
   "id": "ffd73f81",
   "metadata": {},
   "outputs": [],
   "source": [
    "fernet = Fernet(key)"
   ]
  },
  {
   "cell_type": "code",
   "execution_count": 14,
   "id": "8364da29",
   "metadata": {},
   "outputs": [],
   "source": [
    "with open('secretmessage.txt', 'rb') as file:\n",
    "    original = file.read()"
   ]
  },
  {
   "cell_type": "code",
   "execution_count": 15,
   "id": "089b568d",
   "metadata": {},
   "outputs": [],
   "source": [
    "encrypted = fernet.encrypt(original)"
   ]
  },
  {
   "cell_type": "code",
   "execution_count": 17,
   "id": "b70c9965",
   "metadata": {},
   "outputs": [],
   "source": [
    "with open('secretmessage.txt', 'wb') as encrypted_file:\n",
    "    encrypted_file.write(encrypted)"
   ]
  },
  {
   "cell_type": "code",
   "execution_count": null,
   "id": "287176b2",
   "metadata": {},
   "outputs": [],
   "source": []
  },
  {
   "cell_type": "markdown",
   "id": "0027eafe",
   "metadata": {},
   "source": [
    "#### Decryption of the message"
   ]
  },
  {
   "cell_type": "code",
   "execution_count": 19,
   "id": "04687ced",
   "metadata": {},
   "outputs": [],
   "source": [
    "fernet = Fernet(key)"
   ]
  },
  {
   "cell_type": "code",
   "execution_count": 20,
   "id": "9ee1b21d",
   "metadata": {},
   "outputs": [],
   "source": [
    "with open('secretmessage.txt', 'rb') as enc_file:\n",
    "    encrypted = enc_file.read()"
   ]
  },
  {
   "cell_type": "code",
   "execution_count": 21,
   "id": "0db0c732",
   "metadata": {},
   "outputs": [],
   "source": [
    "decrypted = fernet.decrypt(encrypted)"
   ]
  },
  {
   "cell_type": "code",
   "execution_count": 22,
   "id": "3810e005",
   "metadata": {},
   "outputs": [],
   "source": [
    "with open('secretmessage.txt', 'wb') as dec_file:\n",
    "    dec_file.write(decrypted)"
   ]
  },
  {
   "cell_type": "code",
   "execution_count": null,
   "id": "340d1905",
   "metadata": {},
   "outputs": [],
   "source": []
  }
 ],
 "metadata": {
  "kernelspec": {
   "display_name": "Python 3 (ipykernel)",
   "language": "python",
   "name": "python3"
  },
  "language_info": {
   "codemirror_mode": {
    "name": "ipython",
    "version": 3
   },
   "file_extension": ".py",
   "mimetype": "text/x-python",
   "name": "python",
   "nbconvert_exporter": "python",
   "pygments_lexer": "ipython3",
   "version": "3.9.7"
  }
 },
 "nbformat": 4,
 "nbformat_minor": 5
}
